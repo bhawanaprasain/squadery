{
 "cells": [
  {
   "cell_type": "markdown",
   "id": "bcb344f1",
   "metadata": {},
   "source": [
    "## Task 1\n",
    "Define a variable my_sent to be a list of words <br>\n",
    "\n",
    "Use syntax <br>\n",
    "`my_sent = [\"My\", \"sent\"]` (but with your own words, or a favorite saying). <br>\n",
    "\n",
    "Use `' '.join(my_sent)` to convert this into a string <br>\n",
    "Use `split()` to split the string back into the list form you had to start with.\n"
   ]
  },
  {
   "cell_type": "code",
   "execution_count": 10,
   "id": "47c7fa01",
   "metadata": {},
   "outputs": [
    {
     "data": {
      "text/plain": [
       "'There is a simple way to place text which will not be modified in Jupyter Notebook '"
      ]
     },
     "execution_count": 10,
     "metadata": {},
     "output_type": "execute_result"
    }
   ],
   "source": [
    "my_sent = [\"There\", \"is\", \"a\", \"simple\", \"way\", \"to\", \"place\", \"text\", \"which\", \"will\", \"not\", \"be\", \"modified\", \"in\", \"Jupyter\", \"Notebook \"]\n",
    "my_sent = \" \".join(my_sent)\n",
    "my_sent"
   ]
  },
  {
   "cell_type": "code",
   "execution_count": 11,
   "id": "98ed30d4",
   "metadata": {},
   "outputs": [
    {
     "name": "stdout",
     "output_type": "stream",
     "text": [
      "['There', 'is', 'a', 'simple', 'way', 'to', 'place', 'text', 'which', 'will', 'not', 'be', 'modified', 'in', 'Jupyter', 'Notebook']\n"
     ]
    }
   ],
   "source": [
    "my_sent = my_sent.split()\n",
    "print(my_sent)"
   ]
  },
  {
   "cell_type": "markdown",
   "id": "06dc6456",
   "metadata": {},
   "source": [
    "## Task 2\n",
    "\n",
    "Define several variables containing lists of words, e.g., **phrase1, phrase2** and so on. Join them together in various combinations **(using the plus operator)** to form whole sentences. <br> <br> What is the relationship between len(phrase1 + phrase2) and len(phrase1) + len(phrase2)?\n",
    "\n"
   ]
  },
  {
   "cell_type": "code",
   "execution_count": 12,
   "id": "bdfb1240",
   "metadata": {},
   "outputs": [],
   "source": [
    "phrase1 = [\"Rainy\",\"days\",\"are\",\"about\",\"to\",\"come\"]\n",
    "phrase2 = [\"Nowadays\",\"youths\",\"are\",\"active\",\"in\",\"politics\"]\n",
    "phrase3 = [\"Programming\",\"is\",\"all\",\"about\",\"practise\"]\n",
    "phrase4 = [\"I\",\"like\",\"travelling\"]"
   ]
  },
  {
   "cell_type": "code",
   "execution_count": 20,
   "id": "a88ca5ae",
   "metadata": {},
   "outputs": [],
   "source": [
    "combination1 = ' '.join(phrase1+phrase2)\n",
    "combination2 = ' '.join(phrase2+phrase1+phrase3)\n",
    "combination3 = ' '.join(phrase2+phrase1+phrase4+phrase3)"
   ]
  },
  {
   "cell_type": "code",
   "execution_count": 21,
   "id": "4335b79e",
   "metadata": {},
   "outputs": [
    {
     "name": "stdout",
     "output_type": "stream",
     "text": [
      "Rainy days are about to come Nowadays youths are active in politics\n",
      "Nowadays youths are active in politics Rainy days are about to come Programming is all about practise\n",
      "Nowadays youths are active in politics Rainy days are about to come I like travelling Programming is all about practise\n"
     ]
    }
   ],
   "source": [
    "print(combination1)\n",
    "print(combination2)\n",
    "print(combination3)"
   ]
  },
  {
   "cell_type": "code",
   "execution_count": 19,
   "id": "64895ea3",
   "metadata": {},
   "outputs": [
    {
     "data": {
      "text/plain": [
       "True"
      ]
     },
     "execution_count": 19,
     "metadata": {},
     "output_type": "execute_result"
    }
   ],
   "source": [
    "len(phrase1 + phrase2)  == len(phrase1) + len(phrase2)"
   ]
  },
  {
   "cell_type": "markdown",
   "id": "ef904774",
   "metadata": {},
   "source": [
    "## Task 3\n",
    "What is the difference between the following two lines? Which one will give a larger value? Will this be the case for other texts?<br>\n",
    "* `sorted(set(w.lower() for w in text1))`\n",
    "* `sorted(w.lower() for w in set(text1))`\n"
   ]
  },
  {
   "cell_type": "code",
   "execution_count": 22,
   "id": "69980c5c",
   "metadata": {},
   "outputs": [
    {
     "data": {
      "text/plain": [
       "['about', 'are', 'come', 'days', 'rainy', 'to']"
      ]
     },
     "execution_count": 22,
     "metadata": {},
     "output_type": "execute_result"
    }
   ],
   "source": [
    "\n",
    "sorted(set(w.lower() for w in phrase1))"
   ]
  },
  {
   "cell_type": "code",
   "execution_count": 23,
   "id": "393d6508",
   "metadata": {},
   "outputs": [
    {
     "data": {
      "text/plain": [
       "['about', 'are', 'come', 'days', 'rainy', 'to']"
      ]
     },
     "execution_count": 23,
     "metadata": {},
     "output_type": "execute_result"
    }
   ],
   "source": [
    "sorted(w.lower() for w in set(phrase1))"
   ]
  },
  {
   "cell_type": "markdown",
   "id": "66047364",
   "metadata": {},
   "source": [
    "## Task 4\n",
    "What is the difference between the following two tests? <br>\n",
    "* `w.isupper()`\n",
    "* `not w.islower()`\n"
   ]
  },
  {
   "cell_type": "markdown",
   "id": "74869c9d",
   "metadata": {},
   "source": [
    " **Answer**\n",
    " * `w.isupper()` checks whether all characters are in uppercase in a word\n",
    " * `not w.islower()` checks whether there is at least one uppercase character  in a word.\n",
    "\n"
   ]
  },
  {
   "cell_type": "code",
   "execution_count": 27,
   "id": "bec4f3f6",
   "metadata": {},
   "outputs": [
    {
     "data": {
      "text/plain": [
       "False"
      ]
     },
     "execution_count": 27,
     "metadata": {},
     "output_type": "execute_result"
    }
   ],
   "source": [
    "word = 'Water'\n",
    "word.isupper()"
   ]
  },
  {
   "cell_type": "code",
   "execution_count": 29,
   "id": "1cbe5227",
   "metadata": {},
   "outputs": [
    {
     "data": {
      "text/plain": [
       "True"
      ]
     },
     "execution_count": 29,
     "metadata": {},
     "output_type": "execute_result"
    }
   ],
   "source": [
    "not word.islower()"
   ]
  },
  {
   "cell_type": "markdown",
   "id": "a24dcc01",
   "metadata": {},
   "source": [
    "Thus, we can see that `word.isupper()` returns `False` due to presence of one uppercase letter \n",
    "<br>\n",
    "`not w.islower()` returns `True` as one uppercase letter is present"
   ]
  },
  {
   "cell_type": "code",
   "execution_count": null,
   "id": "48d89669",
   "metadata": {},
   "outputs": [],
   "source": []
  }
 ],
 "metadata": {
  "kernelspec": {
   "display_name": "Python 3 (ipykernel)",
   "language": "python",
   "name": "python3"
  },
  "language_info": {
   "codemirror_mode": {
    "name": "ipython",
    "version": 3
   },
   "file_extension": ".py",
   "mimetype": "text/x-python",
   "name": "python",
   "nbconvert_exporter": "python",
   "pygments_lexer": "ipython3",
   "version": "3.8.12"
  }
 },
 "nbformat": 4,
 "nbformat_minor": 5
}
