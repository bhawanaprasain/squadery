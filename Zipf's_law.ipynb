{
 "cells": [
  {
   "cell_type": "markdown",
   "id": "090e8fb1",
   "metadata": {},
   "source": [
    "## Zipf's Law\n",
    "<br>\n",
    "Let f(w) be the frequency of a word w in free text. Suppose that all the words of a text are ranked according to their frequency, with the most frequent word first. Zipf's law states that the frequency of a word type is inversely proportional to its rank (i.e. f × r = k, for some constant k). For example, the 50th most common word type should occur three times as frequently as the 150th most common word type."
   ]
  },
  {
   "cell_type": "markdown",
   "id": "414830ba",
   "metadata": {},
   "source": [
    "## Tasks\n",
    "* Write a function to process a large text and plot word frequency against word rank using pylab.plot. Do you confirm Zipf's law? (Hint: it helps to use a logarithmic scale). What is going on at the extreme ends of the plotted line?\n",
    "* Generate random text, e.g., using random.choice(\"abcdefg \"), taking care to include the space character. You will need to import random first. Use the string concatenation operator to accumulate characters into a (very) long string. Then tokenize this string, and generate the Zipf plot as before, and compare the two plots. What do you make of Zipf's Law in light of this?\n"
   ]
  },
  {
   "cell_type": "code",
   "execution_count": 220,
   "id": "d4ad08e6",
   "metadata": {},
   "outputs": [],
   "source": [
    "from nltk.corpus import brown\n",
    "import nltk, pylab, matplotlib, random\n",
    "import numpy as np"
   ]
  },
  {
   "cell_type": "code",
   "execution_count": 208,
   "id": "8cee301f",
   "metadata": {},
   "outputs": [],
   "source": [
    "def most_frequent_words(number):\n",
    "    freq_distribution=nltk.FreqDist(brown.words(categories='news') + brown.words(categories='government'))\n",
    "    words= [word for word in freq_distribution]\n",
    "    words= [word.lower() for word in freq_distribution ]\n",
    "    frequency = [freq_distribution[word] for word in freq_distribution]\n",
    "    return words[:number],frequency[:number]"
   ]
  },
  {
   "cell_type": "code",
   "execution_count": 238,
   "id": "fe684332",
   "metadata": {},
   "outputs": [],
   "source": [
    "\n",
    "words, frequency = most_frequent_words(800)\n",
    "frequency = sorted(frequency,reverse=True)"
   ]
  },
  {
   "cell_type": "code",
   "execution_count": 239,
   "id": "a53064da",
   "metadata": {},
   "outputs": [
    {
     "data": {
      "text/plain": [
       "800"
      ]
     },
     "execution_count": 239,
     "metadata": {},
     "output_type": "execute_result"
    }
   ],
   "source": [
    "len(frequency)"
   ]
  },
  {
   "cell_type": "code",
   "execution_count": 248,
   "id": "1fc27a66",
   "metadata": {},
   "outputs": [],
   "source": [
    "\n",
    "\n",
    "\n",
    "def frequency_rank(words,frequency):\n",
    "    freq_list = []\n",
    "    rank = []\n",
    "    n = 1 # must start at 1 because log10(0) = infinity\n",
    "   \n",
    "    for freq in frequency:\n",
    "            frequency = np.log(freq)\n",
    "            freq_list.append(frequency)\n",
    "\n",
    "    for word in words:\n",
    "  \n",
    "        rank.append(np.log(n))\n",
    "        n = n + 1\n",
    "\n",
    "    pylab.plot(freq_list, rank)\n",
    "    pylab.xlabel(\"log(1/rank)\")\n",
    "    pylab.ylabel(\"log(1/frequency)\")\n",
    "    pylab.title(\"Zipf's law\")\n",
    "    \n",
    "    return pylab.show()\n"
   ]
  },
  {
   "cell_type": "code",
   "execution_count": 249,
   "id": "d6155e67",
   "metadata": {},
   "outputs": [
    {
     "data": {
      "image/png": "[encoded data removed]",
      "text/plain": [
       "<Figure size 432x288 with 1 Axes>"
      ]
     },
     "metadata": {
      "needs_background": "light"
     },
     "output_type": "display_data"
    }
   ],
   "source": [
    "frequency_rank(words,frequency)"
   ]
  }
 ],
 "metadata": {
  "kernelspec": {
   "display_name": "Python 3 (ipykernel)",
   "language": "python",
   "name": "python3"
  },
  "language_info": {
   "codemirror_mode": {
    "name": "ipython",
    "version": 3
   },
   "file_extension": ".py",
   "mimetype": "text/x-python",
   "name": "python",
   "nbconvert_exporter": "python",
   "pygments_lexer": "ipython3",
   "version": "3.8.12"
  }
 },
 "nbformat": 4,
 "nbformat_minor": 5
}
