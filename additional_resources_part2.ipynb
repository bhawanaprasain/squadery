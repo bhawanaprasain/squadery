{
 "cells": [
  {
   "cell_type": "code",
   "execution_count": 3,
   "id": "d25104e4",
   "metadata": {},
   "outputs": [],
   "source": [
    "import nltk"
   ]
  },
  {
   "cell_type": "markdown",
   "id": "224a1dd3",
   "metadata": {},
   "source": [
    "## Task 15\n",
    "\n",
    "Define a string `s = ‘colorless’`. Write a python statement that changes this to “colourless” using only the `slice` and `concatenation` operations."
   ]
  },
  {
   "cell_type": "code",
   "execution_count": 58,
   "id": "1eafd4cd",
   "metadata": {},
   "outputs": [],
   "source": [
    "s = \"colorless\"\n",
    "new_str = s[:4]+s[4:]"
   ]
  },
  {
   "cell_type": "code",
   "execution_count": 59,
   "id": "ef40f539",
   "metadata": {},
   "outputs": [
    {
     "data": {
      "text/plain": [
       "'colorless'"
      ]
     },
     "execution_count": 59,
     "metadata": {},
     "output_type": "execute_result"
    }
   ],
   "source": [
    "new_str"
   ]
  },
  {
   "cell_type": "markdown",
   "id": "78812eda",
   "metadata": {},
   "source": [
    "## Task 16\n",
    "\n",
    "We saw how we can generate an IndexError by indexing beyond the end of a string. Is it possible to construct an index that goes too far to the left, before the start of the string?"
   ]
  },
  {
   "cell_type": "markdown",
   "id": "66a23ed9",
   "metadata": {},
   "source": [
    "`new_str[-(len(new_str)+2)]` will generate an IndexError as it goes too far to the left."
   ]
  },
  {
   "cell_type": "markdown",
   "id": "cb778ef0",
   "metadata": {},
   "source": [
    "## Task 17\n",
    "\n",
    " Describe the class of strings matched by the following regular expressions. Test your answer using nltk.re_show().\n",
    " * [a-zA-Z]+\n",
    " * [A-Z][a-z]*\n",
    " * p[aeiou]{,2}t\n",
    " * \\d+(\\.\\d+)?\n",
    " * ([^aeiou][aeiou][^aeiou])*\n",
    " * \\w+|[^\\w\\s]+\n"
   ]
  },
  {
   "cell_type": "code",
   "execution_count": 18,
   "id": "c5ac4f7b",
   "metadata": {},
   "outputs": [
    {
     "name": "stdout",
     "output_type": "stream",
     "text": [
      "{apple}\n"
     ]
    }
   ],
   "source": [
    "str1 = \"apple\"\n",
    "reg_exp1 = \"[a-zA-Z]+\"\n",
    "nltk.re_show(reg_exp1,str1)"
   ]
  },
  {
   "cell_type": "markdown",
   "id": "37afc5b5",
   "metadata": {},
   "source": [
    " `[a-zA-Z]+` denotes one or more  alphabet"
   ]
  },
  {
   "cell_type": "code",
   "execution_count": 28,
   "id": "d943dcfa",
   "metadata": {},
   "outputs": [
    {
     "name": "stdout",
     "output_type": "stream",
     "text": [
      "{Art}\n"
     ]
    }
   ],
   "source": [
    "str2 = \"Art\"\n",
    "reg_exp2 = \"[A-Z][a-z]*\"\n",
    "nltk.re_show(reg_exp2,str2)"
   ]
  },
  {
   "cell_type": "markdown",
   "id": "7df28bee",
   "metadata": {},
   "source": [
    "`[A-Z][a-z]*` denotes first character should be uppercase followed by zero or more occurance of lowercase letter"
   ]
  },
  {
   "cell_type": "code",
   "execution_count": 30,
   "id": "2fbabce7",
   "metadata": {},
   "outputs": [
    {
     "name": "stdout",
     "output_type": "stream",
     "text": [
      "{poet}\n"
     ]
    }
   ],
   "source": [
    "str3 = \"poet\"\n",
    "reg_exp3 = \"p[aeiou]{,2}t\"\n",
    "nltk.re_show(reg_exp3,str3)"
   ]
  },
  {
   "cell_type": "markdown",
   "id": "e1c8c6ef",
   "metadata": {},
   "source": [
    "`p[aeiou]{,2}t` denotes first character should be **p** and then **up to 2 vowels** after **p**  and finally  **t**"
   ]
  },
  {
   "cell_type": "code",
   "execution_count": 36,
   "id": "cb03993b",
   "metadata": {},
   "outputs": [
    {
     "name": "stdout",
     "output_type": "stream",
     "text": [
      "{904.57}\n"
     ]
    }
   ],
   "source": [
    "str4 = '904.57'\n",
    "reg_exp4 = \"\\d+(.\\d+)?\"\n",
    "nltk.re_show(reg_exp4,str4)"
   ]
  },
  {
   "cell_type": "markdown",
   "id": "1007ebe6",
   "metadata": {},
   "source": [
    "`\\d+(.\\d+)?` finds out a  a floating number with one or more decimal digits"
   ]
  },
  {
   "cell_type": "code",
   "execution_count": 42,
   "id": "d608e283",
   "metadata": {},
   "outputs": [
    {
     "name": "stdout",
     "output_type": "stream",
     "text": [
      "{fatcat}{}\n"
     ]
    }
   ],
   "source": [
    "str5 = 'fatcat'\n",
    "reg_exp5 = \"([^aeiou][aeiou][^aeiou])*\"\n",
    "nltk.re_show(reg_exp5,str5)\n"
   ]
  },
  {
   "cell_type": "markdown",
   "id": "233c4b21",
   "metadata": {},
   "source": [
    "`([^aeiou][aeiou][^aeiou])*` extract zero or more non-vowel character, then a vowel, then again  non-vowel characters"
   ]
  },
  {
   "cell_type": "code",
   "execution_count": 57,
   "id": "5291057f",
   "metadata": {},
   "outputs": [
    {
     "name": "stdout",
     "output_type": "stream",
     "text": [
      "{apple}    {44} {477ace}\n"
     ]
    }
   ],
   "source": [
    "\n",
    "str6 = 'apple    44 477ace'\n",
    "reg_exp6 = \"\\w+|[^\\w\\s]+\"\n",
    "nltk.re_show(reg_exp6,str6)"
   ]
  },
  {
   "cell_type": "markdown",
   "id": "3b9f7469",
   "metadata": {},
   "source": [
    "`\\w+|[^\\w\\s]+` contains `|` , which means **logical OR** . The given expression will extract a string containing 1 or more occurance of word character or no occurance of wordcharacter or whitespace character."
   ]
  },
  {
   "cell_type": "markdown",
   "id": "82742175",
   "metadata": {},
   "source": [
    "## Task 18\n",
    "\n",
    "The `IOB format` categorizes tagged tokens as `I, O,` and `B`. Why are three tags necessary? What problem would be caused if we used `I` and `O` tags exclusively?\n"
   ]
  },
  {
   "cell_type": "markdown",
   "id": "e9aba4f8",
   "metadata": {},
   "source": [
    "IOB stands for (I)inside, (O)outside, (B)begining tags. It is a format for chunks. These tags are similar to part-of-speech tags but can denote the inside, outside, and beginning of a chunk. \n",
    "<br>\n",
    "B is esential because tt marks the begining of token\n",
    "If we don't have a 'B' then is not possible to identify tokens next to each other.\n",
    "So, B indicates the begining of a new token. For example\n",
    "\n",
    "**B-NP** : beginning of a noun phrase <br>\n",
    "**I-NP** : describes that the word is inside of the current noun phrase.<br> \n",
    "**B-VP** and **I-VP** : beginning and inside of a verb phrase.<br>\n"
   ]
  },
  {
   "cell_type": "markdown",
   "id": "49a4d642",
   "metadata": {},
   "source": [
    "## Task 19\n",
    "\n",
    "Write a tag pattern to cover noun phrases that contain gerunds, e.g. **the/DT receiving/VBG end/NN**, **assistant/NN managing/VBG editor/NN** . Add these patterns to the grammar, one per line. Test your work using some tagged sentences of your own devising.\n"
   ]
  },
  {
   "cell_type": "code",
   "execution_count": 31,
   "id": "318515a2",
   "metadata": {},
   "outputs": [],
   "source": [
    "pattern = \"Gerunds: {<DT>?<NN>?<VBG><NN>}\"\n",
    "cp = nltk.RegexpParser(pattern)\n"
   ]
  },
  {
   "cell_type": "code",
   "execution_count": 34,
   "id": "43e6f415",
   "metadata": {},
   "outputs": [],
   "source": [
    "test_sent = [(\"The\", \"DT\"), (\"receiveing\", \"VBG\"), (\"resource\" ,\"NN\"), (\"manager\", \"NN\"), (\"had\", \"VHD\"), (\"told\", \"VVN\"), (\"us\", \"PP\"), (\"to\", \"TO\"), (\"complete\", \"VV\"), (\"the\",\" DAT\"), (\"survey\", \"NN\"), (\"form\", \"NN\"), (\"soon\", \"RB\")]\n",
    "cp.parse(test_sent).draw()"
   ]
  },
  {
   "cell_type": "code",
   "execution_count": null,
   "id": "28663bde",
   "metadata": {},
   "outputs": [],
   "source": []
  }
 ],
 "metadata": {
  "kernelspec": {
   "display_name": "Python 3 (ipykernel)",
   "language": "python",
   "name": "python3"
  },
  "language_info": {
   "codemirror_mode": {
    "name": "ipython",
    "version": 3
   },
   "file_extension": ".py",
   "mimetype": "text/x-python",
   "name": "python",
   "nbconvert_exporter": "python",
   "pygments_lexer": "ipython3",
   "version": "3.8.12"
  }
 },
 "nbformat": 4,
 "nbformat_minor": 5
}
