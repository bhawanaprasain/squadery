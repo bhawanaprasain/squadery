{
 "cells": [
  {
   "cell_type": "code",
   "execution_count": 6,
   "id": "6ddba3f0",
   "metadata": {},
   "outputs": [],
   "source": [
    "import nltk"
   ]
  },
  {
   "cell_type": "markdown",
   "id": "ca311866",
   "metadata": {},
   "source": [
    "## Task 15\n",
    "\n",
    "Define a string `s = ‘colorless’`. Write a python statement that changes this to “colourless” using only the `slice` and `concatenation` operations."
   ]
  },
  {
   "cell_type": "code",
   "execution_count": 58,
   "id": "2c00bac1",
   "metadata": {},
   "outputs": [],
   "source": [
    "s = \"colorless\"\n",
    "new_str = s[:4]+s[4:]"
   ]
  },
  {
   "cell_type": "code",
   "execution_count": 59,
   "id": "e4cf8fd3",
   "metadata": {},
   "outputs": [
    {
     "data": {
      "text/plain": [
       "'colorless'"
      ]
     },
     "execution_count": 59,
     "metadata": {},
     "output_type": "execute_result"
    }
   ],
   "source": [
    "new_str"
   ]
  },
  {
   "cell_type": "markdown",
   "id": "9261c46f",
   "metadata": {},
   "source": [
    "## Task 16\n",
    "\n",
    "We saw how we can generate an IndexError by indexing beyond the end of a string. Is it possible to construct an index that goes too far to the left, before the start of the string?"
   ]
  },
  {
   "cell_type": "markdown",
   "id": "6bf5a710",
   "metadata": {},
   "source": [
    "`new_str[-(len(new_str)+2)]` will generate an IndexError as it goes too far to the left."
   ]
  },
  {
   "cell_type": "markdown",
   "id": "6c1d2812",
   "metadata": {},
   "source": [
    "## Task 17\n",
    "\n",
    " Describe the class of strings matched by the following regular expressions. Test your answer using nltk.re_show().\n",
    " * [a-zA-Z]+\n",
    " * [A-Z][a-z]*\n",
    " * p[aeiou]{,2}t\n",
    " * \\d+(\\.\\d+)?\n",
    " * ([^aeiou][aeiou][^aeiou])*\n",
    " * \\w+|[^\\w\\s]+\n"
   ]
  },
  {
   "cell_type": "code",
   "execution_count": 18,
   "id": "7777f8f3",
   "metadata": {},
   "outputs": [
    {
     "name": "stdout",
     "output_type": "stream",
     "text": [
      "{apple}\n"
     ]
    }
   ],
   "source": [
    "str1 = \"apple\"\n",
    "reg_exp1 = \"[a-zA-Z]+\"\n",
    "nltk.re_show(reg_exp1,str1)"
   ]
  },
  {
   "cell_type": "markdown",
   "id": "0524cc11",
   "metadata": {},
   "source": [
    " `[a-zA-Z]+` denotes one or more  alphabet"
   ]
  },
  {
   "cell_type": "code",
   "execution_count": 28,
   "id": "4dcc88f1",
   "metadata": {},
   "outputs": [
    {
     "name": "stdout",
     "output_type": "stream",
     "text": [
      "{Art}\n"
     ]
    }
   ],
   "source": [
    "str2 = \"Art\"\n",
    "reg_exp2 = \"[A-Z][a-z]*\"\n",
    "nltk.re_show(reg_exp2,str2)"
   ]
  },
  {
   "cell_type": "markdown",
   "id": "3adf9d5d",
   "metadata": {},
   "source": [
    "`[A-Z][a-z]*` denotes first character should be uppercase followed by zero or more occurance of lowercase letter"
   ]
  },
  {
   "cell_type": "code",
   "execution_count": 30,
   "id": "c2889fd0",
   "metadata": {},
   "outputs": [
    {
     "name": "stdout",
     "output_type": "stream",
     "text": [
      "{poet}\n"
     ]
    }
   ],
   "source": [
    "str3 = \"poet\"\n",
    "reg_exp3 = \"p[aeiou]{,2}t\"\n",
    "nltk.re_show(reg_exp3,str3)"
   ]
  },
  {
   "cell_type": "markdown",
   "id": "f930aa2d",
   "metadata": {},
   "source": [
    "`p[aeiou]{,2}t` denotes first character should be **p** and then **up to 2 vowels** after **p**  and finally  **t**"
   ]
  },
  {
   "cell_type": "code",
   "execution_count": 36,
   "id": "68cdd76f",
   "metadata": {},
   "outputs": [
    {
     "name": "stdout",
     "output_type": "stream",
     "text": [
      "{904.57}\n"
     ]
    }
   ],
   "source": [
    "str4 = '904.57'\n",
    "reg_exp4 = \"\\d+(.\\d+)?\"\n",
    "nltk.re_show(reg_exp4,str4)"
   ]
  },
  {
   "cell_type": "markdown",
   "id": "a62f7bb9",
   "metadata": {},
   "source": [
    "`\\d+(.\\d+)?` finds out a  a floating number with one or more decimal digits"
   ]
  },
  {
   "cell_type": "code",
   "execution_count": 42,
   "id": "ba6b2531",
   "metadata": {},
   "outputs": [
    {
     "name": "stdout",
     "output_type": "stream",
     "text": [
      "{fatcat}{}\n"
     ]
    }
   ],
   "source": [
    "str5 = 'fatcat'\n",
    "reg_exp5 = \"([^aeiou][aeiou][^aeiou])*\"\n",
    "nltk.re_show(reg_exp5,str5)\n"
   ]
  },
  {
   "cell_type": "markdown",
   "id": "a9114e94",
   "metadata": {},
   "source": [
    "`([^aeiou][aeiou][^aeiou])*` extract zero or more non-vowel character, then a vowel, then again  non-vowel characters"
   ]
  },
  {
   "cell_type": "code",
   "execution_count": 57,
   "id": "b02ef07b",
   "metadata": {},
   "outputs": [
    {
     "name": "stdout",
     "output_type": "stream",
     "text": [
      "{apple}    {44} {477ace}\n"
     ]
    }
   ],
   "source": [
    "\n",
    "str6 = 'apple    44 477ace'\n",
    "reg_exp6 = \"\\w+|[^\\w\\s]+\"\n",
    "nltk.re_show(reg_exp6,str6)"
   ]
  },
  {
   "cell_type": "markdown",
   "id": "3db48d58",
   "metadata": {},
   "source": [
    "`\\w+|[^\\w\\s]+` contains `|` , which means **logical OR** . The given expression will extract a string containing 1 or more occurance of word character or no occurance of wordcharacter or whitespace character."
   ]
  },
  {
   "cell_type": "markdown",
   "id": "71da8ab5",
   "metadata": {},
   "source": [
    "## Task 18\n",
    "\n",
    "The `IOB format` categorizes tagged tokens as `I, O,` and `B`. Why are three tags necessary? What problem would be caused if we used `I` and `O` tags exclusively?\n"
   ]
  },
  {
   "cell_type": "markdown",
   "id": "d15d0afc",
   "metadata": {},
   "source": [
    "IOB stands for (I)inside, (O)outside, (B)begining tags. It is a format for chunks. These tags are similar to part-of-speech tags but can denote the inside, outside, and beginning of a chunk. \n",
    "<br>\n",
    "B is esential because tt marks the begining of token\n",
    "If we don't have a 'B' then is not possible to identify tokens next to each other.\n",
    "So, B indicates the begining of a new token. For example\n",
    "\n",
    "**B-NP** : beginning of a noun phrase <br>\n",
    "**I-NP** : describes that the word is inside of the current noun phrase.<br> \n",
    "**B-VP** and **I-VP** : beginning and inside of a verb phrase.<br>\n"
   ]
  },
  {
   "cell_type": "code",
   "execution_count": null,
   "id": "a5e6b214",
   "metadata": {},
   "outputs": [],
   "source": []
  }
 ],
 "metadata": {
  "kernelspec": {
   "display_name": "Python 3 (ipykernel)",
   "language": "python",
   "name": "python3"
  },
  "language_info": {
   "codemirror_mode": {
    "name": "ipython",
    "version": 3
   },
   "file_extension": ".py",
   "mimetype": "text/x-python",
   "name": "python",
   "nbconvert_exporter": "python",
   "pygments_lexer": "ipython3",
   "version": "3.8.12"
  }
 },
 "nbformat": 4,
 "nbformat_minor": 5
}
