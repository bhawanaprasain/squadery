{
 "cells": [
  {
   "cell_type": "markdown",
   "id": "bb51fc53",
   "metadata": {},
   "source": [
    "File `data.json` in this directory contains data from apeboard, debank and sonar market. Each token is unique and each token can contain data for debank ,sonar and apeboard market."
   ]
  },
  {
   "cell_type": "code",
   "execution_count": 2,
   "id": "b809d586",
   "metadata": {},
   "outputs": [],
   "source": [
    "import json\n"
   ]
  },
  {
   "cell_type": "markdown",
   "id": "dc077648",
   "metadata": {},
   "source": [
    "### Reading a json file"
   ]
  },
  {
   "cell_type": "code",
   "execution_count": 3,
   "id": "6801114c",
   "metadata": {},
   "outputs": [],
   "source": [
    "filepath = 'data.json'\n",
    "file = open(filepath)\n",
    "data = json.load(file)"
   ]
  },
  {
   "cell_type": "markdown",
   "id": "60df584a",
   "metadata": {},
   "source": [
    "### Accessing data with specific token value\n",
    "\n"
   ]
  },
  {
   "cell_type": "code",
   "execution_count": 6,
   "id": "e7343c60",
   "metadata": {},
   "outputs": [
    {
     "data": {
      "text/plain": [
       "[{'debank': {'Beefy': {'WFTM + BTC + ETH': {'token1': 'WFTM',\n",
       "     'token1Amount': '7,431.08',\n",
       "     'token2': 'BTC',\n",
       "     'token2Amount': '0.33',\n",
       "     'token3': 'ETH',\n",
       "     'token3Amount': '4.74',\n",
       "     'usdValue': '$38,582'},\n",
       "    'WFTM + gOHM': {'token1': 'WFTM',\n",
       "     'token1Amount': '472.54',\n",
       "     'token2': 'gOHM',\n",
       "     'token2Amount': '0.66',\n",
       "     'usdValue': '$4,059'}}}},\n",
       " {'apeboard': {'Beefy Vault (FANTOM)': {'GRAND-ORCH': {'token1': 'GRAND-ORCH',\n",
       "     'token1Amount': '65.962',\n",
       "     'usdValue': '$38,802.89'},\n",
       "    'BPT-GOHMFTM': {'token1': 'BPT-GOHMFTM',\n",
       "     'token1Amount': '4.875',\n",
       "     'usdValue': '$4,107.26'}}}}]"
      ]
     },
     "execution_count": 6,
     "metadata": {},
     "output_type": "execute_result"
    }
   ],
   "source": [
    "token_data = data['0x6DEEe474D9569011b1dF327F27a8238061F8A79c']\n",
    "token_data"
   ]
  },
  {
   "cell_type": "markdown",
   "id": "2d78c44b",
   "metadata": {},
   "source": [
    "## Accesing data of debank"
   ]
  },
  {
   "cell_type": "code",
   "execution_count": 11,
   "id": "c32dc541",
   "metadata": {},
   "outputs": [
    {
     "data": {
      "text/plain": [
       "{'Beefy': {'WFTM + BTC + ETH': {'token1': 'WFTM',\n",
       "   'token1Amount': '7,431.08',\n",
       "   'token2': 'BTC',\n",
       "   'token2Amount': '0.33',\n",
       "   'token3': 'ETH',\n",
       "   'token3Amount': '4.74',\n",
       "   'usdValue': '$38,582'},\n",
       "  'WFTM + gOHM': {'token1': 'WFTM',\n",
       "   'token1Amount': '472.54',\n",
       "   'token2': 'gOHM',\n",
       "   'token2Amount': '0.66',\n",
       "   'usdValue': '$4,059'}}}"
      ]
     },
     "execution_count": 11,
     "metadata": {},
     "output_type": "execute_result"
    }
   ],
   "source": [
    "debank_data =  token_data[0]['debank']\n",
    "debank_data"
   ]
  },
  {
   "cell_type": "markdown",
   "id": "0364a9ae",
   "metadata": {},
   "source": [
    "### Adding new token and token amount for pool Beefy"
   ]
  },
  {
   "cell_type": "code",
   "execution_count": 18,
   "id": "6eb3df30",
   "metadata": {},
   "outputs": [],
   "source": [
    "debank_data['Beefy']['WFTM + BTC + ETH']['token4'] = 'BALEPHI'\n",
    "debank_data['Beefy']['WFTM + BTC + ETH']['token4Amount'] = 5.9"
   ]
  },
  {
   "cell_type": "code",
   "execution_count": 19,
   "id": "d6b9a4de",
   "metadata": {},
   "outputs": [
    {
     "data": {
      "text/plain": [
       "{'Beefy': {'WFTM + BTC + ETH': {'token1': 'WFTM',\n",
       "   'token1Amount': '7,431.08',\n",
       "   'token2': 'BTC',\n",
       "   'token2Amount': '0.33',\n",
       "   'token3': 'ETH',\n",
       "   'token3Amount': '4.74',\n",
       "   'usdValue': '$38,582',\n",
       "   'token4': 'BALEPHI',\n",
       "   'token4Amount': 5.9},\n",
       "  'WFTM + gOHM': {'token1': 'WFTM',\n",
       "   'token1Amount': '472.54',\n",
       "   'token2': 'gOHM',\n",
       "   'token2Amount': '0.66',\n",
       "   'usdValue': '$4,059'}}}"
      ]
     },
     "execution_count": 19,
     "metadata": {},
     "output_type": "execute_result"
    }
   ],
   "source": [
    "debank_data"
   ]
  },
  {
   "cell_type": "markdown",
   "id": "582968e4",
   "metadata": {},
   "source": [
    "`token4` with value `BALEPHI` and `token4Amount` with value `5.9` is added to debank data with token `0x6DEEe474D9569011b1dF327F27a8238061F8A79c`"
   ]
  },
  {
   "cell_type": "markdown",
   "id": "d6d72964",
   "metadata": {},
   "source": [
    "### Updating token amount of Balephi to 6.0"
   ]
  },
  {
   "cell_type": "code",
   "execution_count": 20,
   "id": "a4b7fa38",
   "metadata": {},
   "outputs": [],
   "source": [
    "debank_data['Beefy']['WFTM + BTC + ETH']['token4Amount'] = 6.0"
   ]
  },
  {
   "cell_type": "code",
   "execution_count": 23,
   "id": "7cbcefcb",
   "metadata": {},
   "outputs": [
    {
     "data": {
      "text/plain": [
       "{'token1': 'WFTM',\n",
       " 'token1Amount': '7,431.08',\n",
       " 'token2': 'BTC',\n",
       " 'token2Amount': '0.33',\n",
       " 'token3': 'ETH',\n",
       " 'token3Amount': '4.74',\n",
       " 'usdValue': '$38,582',\n",
       " 'token4': 'BALEPHI',\n",
       " 'token4Amount': 6.0}"
      ]
     },
     "execution_count": 23,
     "metadata": {},
     "output_type": "execute_result"
    }
   ],
   "source": [
    "debank_data['Beefy']['WFTM + BTC + ETH']"
   ]
  },
  {
   "cell_type": "markdown",
   "id": "fdc3276f",
   "metadata": {},
   "source": [
    "We can see token4Amount set to `6.0`"
   ]
  },
  {
   "cell_type": "markdown",
   "id": "e3917ea4",
   "metadata": {},
   "source": [
    "### Deleting data from json structure\n",
    "\n",
    "Sample file contains data with keys `id`, `name`, `favourite_color` for each person."
   ]
  },
  {
   "cell_type": "code",
   "execution_count": 48,
   "id": "40dfb475",
   "metadata": {},
   "outputs": [
    {
     "data": {
      "text/plain": [
       "{'duncan_long': {'id': 'drekaner',\n",
       "  'name': 'Duncan Long',\n",
       "  'favorite_color': 'Blue'},\n",
       " 'kelsea_head': {'id': 'wagshark',\n",
       "  'name': 'Kelsea Head',\n",
       "  'favorite_color': 'Ping'}}"
      ]
     },
     "execution_count": 48,
     "metadata": {},
     "output_type": "execute_result"
    }
   ],
   "source": [
    "import json\n",
    "file_path = 'sample_data.json'\n",
    "with open(file_path) as f:\n",
    "    sample_data = json.load(f)\n",
    "\n",
    "sample_data"
   ]
  },
  {
   "cell_type": "code",
   "execution_count": 49,
   "id": "7048df9c",
   "metadata": {},
   "outputs": [
    {
     "data": {
      "text/plain": [
       "{'duncan_long': {'name': 'Duncan Long', 'favorite_color': 'Blue'},\n",
       " 'kelsea_head': {'name': 'Kelsea Head', 'favorite_color': 'Ping'}}"
      ]
     },
     "execution_count": 49,
     "metadata": {},
     "output_type": "execute_result"
    }
   ],
   "source": [
    "for value in sample_data.values():\n",
    "    value.pop('id', None)\n",
    "sample_data"
   ]
  },
  {
   "cell_type": "markdown",
   "id": "cbeff929",
   "metadata": {},
   "source": [
    "ID of both person have been removed from sample data"
   ]
  }
 ],
 "metadata": {
  "kernelspec": {
   "display_name": "Python 3 (ipykernel)",
   "language": "python",
   "name": "python3"
  },
  "language_info": {
   "codemirror_mode": {
    "name": "ipython",
    "version": 3
   },
   "file_extension": ".py",
   "mimetype": "text/x-python",
   "name": "python",
   "nbconvert_exporter": "python",
   "pygments_lexer": "ipython3",
   "version": "3.8.12"
  }
 },
 "nbformat": 4,
 "nbformat_minor": 5
}
