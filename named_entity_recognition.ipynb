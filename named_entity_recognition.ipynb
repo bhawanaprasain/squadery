{
 "cells": [
  {
   "cell_type": "markdown",
   "id": "5281107c",
   "metadata": {},
   "source": [
    "# Named Entity Recognition (NER)\n",
    "\n",
    "Named Entity Recognition, in Natural Language Processing  deals with identifying and classifying named entities. Named entities  can be denoted with a proper name and  can occur in the form like:\n",
    "* Place\n",
    "* Person\n",
    "* Organization\n",
    "* Object\n",
    "* Time\n",
    "* Cardinal Values\n",
    "* Product\n"
   ]
  },
  {
   "cell_type": "code",
   "execution_count": 20,
   "id": "f87d3741",
   "metadata": {},
   "outputs": [],
   "source": [
    "\n",
    "# command to run before code\n",
    "! pip install spacy\n",
    "! python -m spacy download en_core_web_sm\n"
   ]
  },
  {
   "cell_type": "code",
   "execution_count": 14,
   "id": "78e4cbbf",
   "metadata": {},
   "outputs": [],
   "source": [
    "import spacy\n",
    "NER = spacy.load(\"en_core_web_sm\")"
   ]
  },
  {
   "cell_type": "code",
   "execution_count": 15,
   "id": "2c8e1241",
   "metadata": {},
   "outputs": [],
   "source": [
    "f = open(\"bbctech.txt\", \"r\")\n",
    "tech_data= f.read()"
   ]
  },
  {
   "cell_type": "code",
   "execution_count": 16,
   "id": "c873bdf3",
   "metadata": {},
   "outputs": [],
   "source": [
    "text1= NER(tech_data)\n"
   ]
  },
  {
   "cell_type": "code",
   "execution_count": 17,
   "id": "dfb8f7c5",
   "metadata": {},
   "outputs": [
    {
     "name": "stdout",
     "output_type": "stream",
     "text": [
      "Asia LOC\n",
      "Kyrgyz Republic GPE\n",
      "Soviet NORP\n",
      "the 1990s DATE\n",
      "Kyrgyz ORG\n",
      "Askar Akaev PERSON\n",
      "US GPE\n",
      "Kyrgyz Republic GPE\n",
      "the mid-1990s DATE\n",
      "2003 DATE\n",
      "one CARDINAL\n",
      "75 CARDINAL\n",
      "German NORP\n",
      "the Soros Foundation ORG\n",
      "Kyrgyz ORG\n",
      "one CARDINAL\n",
      "two CARDINAL\n",
      "the Autumn DATE\n",
      "Soviet NORP\n",
      "Ukraine GPE\n",
      "Georgia GPE\n",
      "one CARDINAL\n",
      "Coalition of Non ORG\n",
      "Organizations PRODUCT\n",
      "Serbia GPE\n",
      "South Africa GPE\n",
      "Indonesia GPE\n",
      "Turkey GPE\n",
      "Afghanistan GPE\n",
      "Serbia GPE\n",
      "Christian NORP\n",
      "Islamic NORP\n",
      "at least 72 hours TIME\n",
      "up to a week DATE\n",
      "27 February DATE\n",
      "IFES ORG\n"
     ]
    }
   ],
   "source": [
    "for word in text1.ents:\n",
    "    print(word.text,word.label_)"
   ]
  },
  {
   "cell_type": "code",
   "execution_count": 18,
   "id": "68e890a9",
   "metadata": {},
   "outputs": [
    {
     "data": {
      "text/plain": [
       "'Companies, agencies, institutions, etc.'"
      ]
     },
     "execution_count": 18,
     "metadata": {},
     "output_type": "execute_result"
    }
   ],
   "source": [
    "spacy.explain(\"ORG\")"
   ]
  },
  {
   "cell_type": "code",
   "execution_count": 19,
   "id": "638d49ad",
   "metadata": {},
   "outputs": [
    {
     "data": {
      "text/plain": [
       "'Countries, cities, states'"
      ]
     },
     "execution_count": 19,
     "metadata": {},
     "output_type": "execute_result"
    }
   ],
   "source": [
    "spacy.explain(\"GPE\")\n"
   ]
  }
 ],
 "metadata": {
  "kernelspec": {
   "display_name": "Python 3 (ipykernel)",
   "language": "python",
   "name": "python3"
  },
  "language_info": {
   "codemirror_mode": {
    "name": "ipython",
    "version": 3
   },
   "file_extension": ".py",
   "mimetype": "text/x-python",
   "name": "python",
   "nbconvert_exporter": "python",
   "pygments_lexer": "ipython3",
   "version": "3.8.12"
  }
 },
 "nbformat": 4,
 "nbformat_minor": 5
}
